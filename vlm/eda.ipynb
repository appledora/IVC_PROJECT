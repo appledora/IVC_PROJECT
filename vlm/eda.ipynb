{
 "cells": [
  {
   "cell_type": "code",
   "execution_count": null,
   "metadata": {},
   "outputs": [],
   "source": [
    "%load_ext autoreload\n",
    "%autoreload 2"
   ]
  },
  {
   "attachments": {},
   "cell_type": "markdown",
   "metadata": {},
   "source": [
    "#### Data"
   ]
  },
  {
   "attachments": {},
   "cell_type": "markdown",
   "metadata": {},
   "source": [
    "MedMNIST2D"
   ]
  },
  {
   "cell_type": "code",
   "execution_count": null,
   "metadata": {},
   "outputs": [],
   "source": [
    "# Install MedMNIST data\n",
    "# !pip install medmnist"
   ]
  },
  {
   "attachments": {},
   "cell_type": "markdown",
   "metadata": {},
   "source": [
    "Libraries"
   ]
  },
  {
   "cell_type": "code",
   "execution_count": null,
   "metadata": {},
   "outputs": [],
   "source": [
    "from tqdm import tqdm\n",
    "import warnings\n",
    "warnings.simplefilter(\"ignore\")\n",
    "\n",
    "import numpy as np\n",
    "import cv2 as cv\n",
    "import matplotlib.pyplot as plt\n",
    "import seaborn as sns\n",
    "\n",
    "import torch.utils.data as data\n",
    "import torchvision.transforms as transforms\n",
    "\n",
    "import medmnist\n",
    "from medmnist import INFO"
   ]
  },
  {
   "attachments": {},
   "cell_type": "markdown",
   "metadata": {},
   "source": [
    "Configuration"
   ]
  },
  {
   "cell_type": "code",
   "execution_count": null,
   "metadata": {},
   "outputs": [],
   "source": [
    "data_flag = 'chestmnist'\n",
    "download = True\n",
    "\n",
    "BATCH_SIZE = 128\n",
    "NUM_EPOCHS = 50\n",
    "\n",
    "info = INFO[data_flag]\n",
    "label_dict = info[\"label\"]\n",
    "task = info['task']\n",
    "n_channels = info['n_channels']\n",
    "n_classes = len(info['label'])\n",
    "\n",
    "DataClass = getattr(medmnist, info['python_class'])"
   ]
  },
  {
   "attachments": {},
   "cell_type": "markdown",
   "metadata": {},
   "source": [
    "##### Exploratory Analysis"
   ]
  },
  {
   "cell_type": "code",
   "execution_count": null,
   "metadata": {},
   "outputs": [],
   "source": [
    "# preprocessing\n",
    "data_transform = transforms.Compose([transforms.ToTensor(), transforms.Normalize(mean=[.5], std=[.5])])\n",
    "\n",
    "# load the data\n",
    "train_dataset = DataClass(split='train', transform=data_transform, download=download, root=\"./data/.medmnist/\", size=224)\n",
    "test_dataset = DataClass(split='test', transform=data_transform, download=download, root=\"./data/.medmnist/\", size=224)\n",
    "\n",
    "# encapsulate data into dataloader form\n",
    "train_loader = data.DataLoader(dataset=train_dataset, batch_size=BATCH_SIZE, shuffle=True)\n",
    "test_loader = data.DataLoader(dataset=test_dataset, batch_size=BATCH_SIZE, shuffle=False)"
   ]
  },
  {
   "cell_type": "code",
   "execution_count": null,
   "metadata": {},
   "outputs": [],
   "source": [
    "print(train_dataset)\n",
    "print(\"=\"*100)\n",
    "print(test_dataset)"
   ]
  },
  {
   "attachments": {},
   "cell_type": "markdown",
   "metadata": {},
   "source": [
    "Visualization"
   ]
  },
  {
   "cell_type": "code",
   "execution_count": null,
   "metadata": {},
   "outputs": [],
   "source": [
    "# montage\n",
    "train_dataset.montage(length=4)"
   ]
  },
  {
   "cell_type": "code",
   "execution_count": null,
   "metadata": {},
   "outputs": [],
   "source": [
    "fig = plt.figure(figsize=(14, 12))\n",
    "for i, label in enumerate(label_dict.keys()):\n",
    "    ind = np.where(train_dataset.labels.sum(axis=-1) == int(label))[0]\n",
    "    if ind.size != 0:\n",
    "        label_indices = np.random.choice(ind)\n",
    "        img_by_label = train_dataset.imgs[label_indices]\n",
    "        \n",
    "        plt.subplot(7, 2, i+1)\n",
    "        plt.imshow(img_by_label, cmap=\"gray\")\n",
    "        plt.axis(\"off\")\n",
    "        if task == \"multi-label, binary-class\":\n",
    "            plt.title(f\"Label: {[label_dict[str(label)] for label in np.where(train_dataset.labels[label_indices] == 1)[0]]}\", fontsize=7)\n",
    "        else:\n",
    "            plt.title(f\"Label: {label_dict[str(label)]}\")\n",
    "        plt.tight_layout()\n",
    "    else:\n",
    "        print(\"No such image\")"
   ]
  },
  {
   "cell_type": "code",
   "execution_count": null,
   "metadata": {},
   "outputs": [],
   "source": [
    "def histogram_img(img, title=None, ind=i):\n",
    "    plt.figure(figsize=(10, 4))\n",
    "    ax1 = plt.subplot(1, 2, 1)\n",
    "    ax2 = plt.subplot(1, 2, 2)\n",
    "\n",
    "    histograms = []\n",
    "\n",
    "    if img.shape[0] == 3:\n",
    "        colors = ('b','g','r')\n",
    "        for i in range(3):\n",
    "            hist = cv.calcHist([img], [i], None, [256], [0,255])\n",
    "            histograms.append(hist)\n",
    "\n",
    "            ax2.plot(hist, color=colors[i])\n",
    "    else:\n",
    "        hist = cv.calcHist([img], [0], None, [256], [0,255])\n",
    "        histograms.append(hist)\n",
    "\n",
    "        ax2.plot(hist)\n",
    "\n",
    "\n",
    "\n",
    "    # tmp_img = cv.bitwise_and(img, img, mask=mask)\n",
    "    ax1.imshow(cv.cvtColor(img, cv.COLOR_BGR2RGB))\n",
    "    ax1.grid(False)\n",
    "    ax1.axis('off') \n",
    "    if title is not None:\n",
    "        ax1.set_title(title, fontsize=7)\n",
    "\n",
    "    plt.title(\"Colour Distribution\")\n",
    "    plt.tight_layout()\n",
    "    plt.savefig(f\"./vlm/visualizations/{ind}_{data_flag}.png\")\n",
    "    plt.show()\n",
    "\n",
    "plt.figure(figsize=(6, 4))\n",
    "for i, label in enumerate(label_dict.keys()):\n",
    "    ind = np.where(train_dataset.labels.sum(axis=-1) == int(label))[0]\n",
    "    if ind.size != 0:\n",
    "        label_indices = np.random.choice(ind)\n",
    "        img_by_label = train_dataset.imgs[label_indices]\n",
    "        if task == \"multi-label, binary-class\":\n",
    "            title= f\"Label: {[label_dict[str(label)] for label in np.where(train_dataset.labels[label_indices] == 1)[0]]}\"\n",
    "        else:\n",
    "            title = f\"Label: {label_dict[str(label)]}\"\n",
    "        histogram_img(img_by_label, title=title, ind=i)\n",
    "    else:\n",
    "        print(\"No such image\")"
   ]
  },
  {
   "cell_type": "code",
   "execution_count": null,
   "metadata": {},
   "outputs": [],
   "source": [
    "for i, label in enumerate(label_dict.keys()):\n",
    "    label_indices = np.where(train_dataset.labels == int(label))[0]\n",
    "    img_by_label = train_dataset.imgs[label_indices]\n",
    "    \n",
    "    if info[\"n_channels\"] == 3:\n",
    "        ##R\n",
    "        red_channel_intensity = np.mean(img_by_label[:, :, :, 0]).round(2)\n",
    "        red_channel_intensity_sd = np.std(img_by_label[:, :, :, 0]).round(2)\n",
    "        ##G\n",
    "        green_channel_intensity = np.mean(img_by_label[:, :, :, 1]).round(2)\n",
    "        green_channel_intensity_sd = np.std(img_by_label[:, :, :, 1]).round(2)\n",
    "        ##B\n",
    "        blue_channel_intensity = np.mean(img_by_label[:, :, :, 2]).round(2)\n",
    "        blue_channel_intensity_sd = np.std(img_by_label[:, :, :, 2]).round(2)\n",
    "        \n",
    "        intensity_dict = {label_dict[label]: ((red_channel_intensity, red_channel_intensity_sd),\n",
    "                                            (green_channel_intensity, green_channel_intensity_sd),\n",
    "                                            (blue_channel_intensity, blue_channel_intensity_sd))}\n",
    "    \n",
    "    elif info[\"n_channels\"] == 1:\n",
    "        ##G\n",
    "        gray_channel_intensity = np.mean(img_by_label[:, :, :]).round(2)\n",
    "        gray_channel_intensity_sd = np.std(img_by_label[:, :, :]).round(2)\n",
    "        \n",
    "        intensity_dict = {label_dict[label]: (gray_channel_intensity, gray_channel_intensity_sd)}\n",
    "\n",
    "    print(intensity_dict)"
   ]
  },
  {
   "attachments": {},
   "cell_type": "markdown",
   "metadata": {},
   "source": [
    "Data Distribution"
   ]
  },
  {
   "cell_type": "code",
   "execution_count": null,
   "metadata": {},
   "outputs": [],
   "source": [
    "import itertools\n",
    "from collections import Counter\n",
    "def data_dist_plot(dataset, title):\n",
    "\n",
    "    if \"multi-label\" in task:\n",
    "        count_dict = {}\n",
    "        for i, label in enumerate(label_dict.keys()):\n",
    "            ind = np.where(dataset.labels.sum(axis=-1) == int(label))[0]\n",
    "            count_dict[int(label)] = len(ind)\n",
    "        assert sum(count_dict.values()) == len(dataset), \"Mismatch in frequency and total count\"\n",
    "        rank = sorted(count_dict, key=count_dict.get)\n",
    "        \n",
    "        pal = sns.color_palette(\"Purples_d\", len(label_dict))\n",
    "        ax = sns.barplot(y=count_dict.keys(), x=count_dict.values(), palette=np.array(pal)[rank], legend=False, orient=\"h\")\n",
    "        for container in ax.containers:\n",
    "            ax.bar_label(container)\n",
    "        ax.set_title(title)\n",
    "        plt.xlabel(\"# of labels\")\n",
    "        plt.ylabel(\"# of images\")\n",
    "        \n",
    "\n",
    "    else:\n",
    "        labels = list(itertools.chain.from_iterable(dataset.labels))\n",
    "        \n",
    "        freq = Counter(labels)\n",
    "        assert sum(freq.values()) == len(dataset), \"Mismatch in frequency and total count\"\n",
    "        rank = sorted(freq, key=freq.get)\n",
    "\n",
    "        pal = sns.color_palette(\"Purples_d\", len(labels))\n",
    "        ax = sns.barplot(y=[label_dict[str(label)] for label in freq.keys()], x=freq.values(), palette=np.array(pal)[rank], legend=False)\n",
    "        # ax.set_xticklabels(ax.get_xticklabels(), rotation=90)\n",
    "        ax.set_title(title)\n",
    "        plt.xlabel(\"# of images\")\n",
    "        plt.ylabel(\"Label\")\n",
    "\n",
    "        return ax\n",
    "\n",
    "\n",
    "plt.figure(figsize=(10, 10))\n",
    "plt.subplot(211)\n",
    "data_dist_plot(train_dataset, \"train\")\n",
    "plt.subplot(212)\n",
    "data_dist_plot(test_dataset, \"test\")\n",
    "plt.tight_layout()"
   ]
  }
 ],
 "metadata": {
  "kernelspec": {
   "display_name": "Python 3 (ipykernel)",
   "language": "python",
   "name": "python3"
  }
 },
 "nbformat": 4,
 "nbformat_minor": 2
}
